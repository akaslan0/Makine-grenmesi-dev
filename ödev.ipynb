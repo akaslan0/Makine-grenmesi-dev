{
 "cells": [
  {
   "cell_type": "code",
   "execution_count": 14,
   "metadata": {},
   "outputs": [
    {
     "name": "stdout",
     "output_type": "stream",
     "text": [
      "   age  cp  trestbps  restecg  thalach  oldpeak  slope  ca  thal  cholesterol\n",
      "0   63   3       145        0      150      2.3      0   0     1          233\n",
      "1   37   2       130        1      187      3.5      0   0     2          250\n",
      "2   41   1       130        0      172      1.4      2   0     2          204\n",
      "3   56   1       120        1      178      0.8      2   0     2          236\n",
      "4   57   0       120        1      163      0.6      2   0     2          354\n",
      "5   57   0       140        1      148      0.4      1   0     1          192\n",
      "6   56   1       140        0      153      1.3      1   0     2          294\n",
      "7   44   1       120        1      173      0.0      2   0     3          263\n",
      "8   52   2       172        1      162      0.5      2   0     3          199\n",
      "9   57   2       150        1      174      1.6      2   0     2          168\n",
      "(303, 10)\n"
     ]
    }
   ],
   "source": [
    "# heart.csv kullanarak kişinin kalp hastalığı olup olmadığını tahmin etmek\n",
    "#age - yaş\n",
    "#sex - (1 = erkek; 0 = kadın)\n",
    "#cp - göğüs ağrısı tipleri\n",
    "#trestbps - dinlenme kan basıncı\n",
    "#chol - kolestrol\n",
    "#fbs - açlık kan şekeri (1 = doğru; 0 = yanlış)\n",
    "#restecg - dinlenme elektrokardiyografik sonuçlar\n",
    "#thalach - maksimum kalp atış hızı\n",
    "#exang - egzersize bağlı anjina (1 = evet; 0 = hayır)\n",
    "#oldpeak -dinlenmeye göre egzersizin neden olduğu ST depresyonu\n",
    "#slope - ST segmentinin eğimi\n",
    "#ca - florosopi ile renklendirilen ana damarların sayısı (0-3)\n",
    "#thal - 1= normal; 2= sabit kusur; 7 =  tersine çevrilebilir kusur\n",
    "#target - 1 = hastalık; 0 = hastalık yok\n",
    "import pandas as pd\n",
    "import numpy as np\n",
    "import matplotlib.pyplot as plt\n",
    "from sklearn.linear_model import LinearRegression\n",
    "df=pd.read_csv(\"heart.csv\", sep=\";\")\n",
    "df=df.drop(\"target\",axis=1)\n",
    "df=df.drop(\"sex\",axis=1)\n",
    "df=df.drop(\"fbs\",axis=1)\n",
    "df=df.drop(\"exang\",axis=1)\n",
    "# o ile 1 olarak çalışan sütunları çıkardım targetı sildim \n",
    "\n",
    "df['cholesterol'] = df['chol']\n",
    "df=df.drop(\"chol\",axis=1)\n",
    "#cholestrol diye sütün ekleyip en son chol ü oraya atadım ve chol sutununu kaldırdım\n",
    "\n",
    "print(df.head(10))\n",
    "print(df.shape)"
   ]
  },
  {
   "cell_type": "code",
   "execution_count": 16,
   "metadata": {},
   "outputs": [
    {
     "name": "stdout",
     "output_type": "stream",
     "text": [
      "   Age  Chest_pain  Resting_blood_pressure  ECG_results  Maximum_heart_rate  \\\n",
      "0   63           3                     145            0                 150   \n",
      "1   37           2                     130            1                 187   \n",
      "2   41           1                     130            0                 172   \n",
      "3   56           1                     120            1                 178   \n",
      "4   57           0                     120            1                 163   \n",
      "\n",
      "   ST_depression  ST_slope  Major_vessels  Thalassemia_types  cholesterol  \n",
      "0            2.3         0              0                  1          233  \n",
      "1            3.5         0              0                  2          250  \n",
      "2            1.4         2              0                  2          204  \n",
      "3            0.8         2              0                  2          236  \n",
      "4            0.6         2              0                  2          354  \n",
      "(303, 10)\n"
     ]
    },
    {
     "data": {
      "text/html": [
       "<div>\n",
       "<style scoped>\n",
       "    .dataframe tbody tr th:only-of-type {\n",
       "        vertical-align: middle;\n",
       "    }\n",
       "\n",
       "    .dataframe tbody tr th {\n",
       "        vertical-align: top;\n",
       "    }\n",
       "\n",
       "    .dataframe thead th {\n",
       "        text-align: right;\n",
       "    }\n",
       "</style>\n",
       "<table border=\"1\" class=\"dataframe\">\n",
       "  <thead>\n",
       "    <tr style=\"text-align: right;\">\n",
       "      <th></th>\n",
       "      <th>cholesterol</th>\n",
       "    </tr>\n",
       "  </thead>\n",
       "  <tbody>\n",
       "    <tr>\n",
       "      <th>0</th>\n",
       "      <td>233</td>\n",
       "    </tr>\n",
       "    <tr>\n",
       "      <th>1</th>\n",
       "      <td>250</td>\n",
       "    </tr>\n",
       "    <tr>\n",
       "      <th>2</th>\n",
       "      <td>204</td>\n",
       "    </tr>\n",
       "    <tr>\n",
       "      <th>3</th>\n",
       "      <td>236</td>\n",
       "    </tr>\n",
       "    <tr>\n",
       "      <th>4</th>\n",
       "      <td>354</td>\n",
       "    </tr>\n",
       "    <tr>\n",
       "      <th>...</th>\n",
       "      <td>...</td>\n",
       "    </tr>\n",
       "    <tr>\n",
       "      <th>298</th>\n",
       "      <td>241</td>\n",
       "    </tr>\n",
       "    <tr>\n",
       "      <th>299</th>\n",
       "      <td>264</td>\n",
       "    </tr>\n",
       "    <tr>\n",
       "      <th>300</th>\n",
       "      <td>193</td>\n",
       "    </tr>\n",
       "    <tr>\n",
       "      <th>301</th>\n",
       "      <td>131</td>\n",
       "    </tr>\n",
       "    <tr>\n",
       "      <th>302</th>\n",
       "      <td>236</td>\n",
       "    </tr>\n",
       "  </tbody>\n",
       "</table>\n",
       "<p>303 rows × 1 columns</p>\n",
       "</div>"
      ],
      "text/plain": [
       "     cholesterol\n",
       "0            233\n",
       "1            250\n",
       "2            204\n",
       "3            236\n",
       "4            354\n",
       "..           ...\n",
       "298          241\n",
       "299          264\n",
       "300          193\n",
       "301          131\n",
       "302          236\n",
       "\n",
       "[303 rows x 1 columns]"
      ]
     },
     "execution_count": 16,
     "metadata": {},
     "output_type": "execute_result"
    }
   ],
   "source": [
    "#başlık isimleri anlaşılabilmesi için değiştirdim\n",
    "df.rename(columns ={'age':'Age','sex':'Sex','cp':'Chest_pain','trestbps':'Resting_blood_pressure','chol':'Cholesterol','fbs':'Fasting_blood_sugar',\n",
    "                    'restecg':'ECG_results','thalach':'Maximum_heart_rate','exang':'Exercise_induced_angina','oldpeak':'ST_depression','ca':'Major_vessels',\n",
    "                   'thal':'Thalassemia_types','target':'Heart_attack','slope':'ST_slope'}, inplace = True)\n",
    "\n",
    "\n",
    "x=df.iloc[:,0:5]\n",
    "\n",
    "y=df.iloc[:,9:10]\n",
    "\n",
    "\n",
    "print(df.head())\n",
    "print(df.shape)\n",
    "x\n",
    "y"
   ]
  },
  {
   "cell_type": "code",
   "execution_count": 17,
   "metadata": {},
   "outputs": [
    {
     "name": "stdout",
     "output_type": "stream",
     "text": [
      "[126.90034622] [[  1.27301247  -4.66106102   0.16839134 -11.78217044   0.25873708]]\n",
      "251\n",
      "0.07873856446389482\n",
      "mlr r2 : 0.07873856446389482\n",
      "mlr mae : 37.368678266028894\n",
      "mlr mse: 2466.733371005302\n",
      "mlr rmse : 49.66621961660966\n"
     ]
    }
   ],
   "source": [
    "#multiple\n",
    "mlr=LinearRegression()\n",
    "mlr.fit(x,y)\n",
    "print(mlr.intercept_,mlr.coef_)\n",
    "\n",
    "y_pred_mlr=mlr.predict([[57,2,142,1,189]])\n",
    "print(int(y_pred_mlr))\n",
    "print(mlr.score(x,y))\n",
    "#değerlendirme\n",
    "from sklearn.metrics import r2_score,mean_squared_error,mean_absolute_error\n",
    "mlr_pred=mlr.predict(x)\n",
    "print(\"mlr r2 :\",r2_score(y,mlr_pred))\n",
    "print(\"mlr mae :\",mean_absolute_error(y,mlr_pred))\n",
    "print(\"mlr mse:\",mean_squared_error(y,mlr_pred))\n",
    "print(\"mlr rmse :\",(mean_squared_error(y,mlr_pred)**0.5))"
   ]
  },
  {
   "cell_type": "code",
   "execution_count": 20,
   "metadata": {},
   "outputs": [
    {
     "name": "stdout",
     "output_type": "stream",
     "text": [
      "229\n",
      "0.24333077343447396\n",
      "pol pred r2 : 0.24333077343447396\n",
      "pol pred mae : 34.763447870515755\n",
      "pol pred mse: 2026.0277484596877\n",
      "pol pred rmse : 45.01141797877165\n"
     ]
    }
   ],
   "source": [
    "#polynomial\n",
    "from sklearn.preprocessing import PolynomialFeatures\n",
    "plr=PolynomialFeatures(degree=3)\n",
    "\n",
    "x_pol=plr.fit_transform(x)\n",
    "\n",
    "lr_pol=LinearRegression()\n",
    "\n",
    "lr_pol.fit(x_pol,y)\n",
    "\n",
    "x_yeni=plr.fit_transform([[57,2,142,1,189]])\n",
    "y_pred_pol=lr_pol.predict(x_yeni)\n",
    "print(int(y_pred_pol))\n",
    "print(lr_pol.score(x_pol,y))\n",
    "#değerlendirme\n",
    "pol_pred=lr_pol.predict(x_pol)\n",
    "print(\"pol pred r2 :\",r2_score(y,pol_pred))\n",
    "print(\"pol pred mae :\",mean_absolute_error(y,pol_pred))\n",
    "print(\"pol pred mse:\",mean_squared_error(y,pol_pred))\n",
    "print(\"pol pred rmse :\",(mean_squared_error(y,pol_pred)**0.5))"
   ]
  },
  {
   "cell_type": "code",
   "execution_count": null,
   "metadata": {},
   "outputs": [],
   "source": [
    "\n"
   ]
  },
  {
   "cell_type": "code",
   "execution_count": null,
   "metadata": {},
   "outputs": [],
   "source": []
  },
  {
   "cell_type": "code",
   "execution_count": 21,
   "metadata": {},
   "outputs": [],
   "source": [
    "#decision tree\n",
    "import pandas as pd\n",
    "import numpy as numpy\n",
    "from sklearn.tree import DecisionTreeRegressor\n",
    "from sklearn.metrics import r2_score\n",
    "\n",
    "df=pd.read_csv(\"heart.csv\", sep=\";\")\n",
    "x=df.iloc[:,0:9].values\n",
    "y=df.iloc[:,9:10].values\n"
   ]
  },
  {
   "cell_type": "code",
   "execution_count": 22,
   "metadata": {},
   "outputs": [
    {
     "name": "stdout",
     "output_type": "stream",
     "text": [
      "tree_r2 : 1.0\n"
     ]
    }
   ],
   "source": [
    "tree_reg=DecisionTreeRegressor()\n",
    "tree_reg.fit(x,y)\n",
    "tree_pred=tree_reg.predict(x)\n",
    "print(\"tree_r2 :\", r2_score(y,tree_pred))"
   ]
  },
  {
   "cell_type": "code",
   "execution_count": 23,
   "metadata": {},
   "outputs": [
    {
     "data": {
      "text/plain": [
       "RandomForestRegressor(random_state=42)"
      ]
     },
     "execution_count": 23,
     "metadata": {},
     "output_type": "execute_result"
    }
   ],
   "source": [
    "#randomforest\n",
    "from sklearn.ensemble import RandomForestRegressor\n",
    "rf=RandomForestRegressor(n_estimators=100,random_state=42)\n",
    "rf.fit(x,y.ravel())"
   ]
  },
  {
   "cell_type": "code",
   "execution_count": 24,
   "metadata": {},
   "outputs": [
    {
     "name": "stdout",
     "output_type": "stream",
     "text": [
      "r2 score : 0.8737759748392493\n"
     ]
    }
   ],
   "source": [
    "rf_pred=rf.predict(x)\n",
    "print(\"r2 score :\", r2_score(y,rf_pred))"
   ]
  },
  {
   "cell_type": "code",
   "execution_count": 25,
   "metadata": {},
   "outputs": [],
   "source": [
    "import pandas as pd\n",
    "import numpy as np\n",
    "from sklearn.linear_model import LinearRegression\n",
    "from sklearn.tree import DecisionTreeRegressor\n",
    "from sklearn.ensemble import RandomForestRegressor\n",
    "from sklearn.metrics import r2_score,mean_absolute_error\n",
    "f=pd.read_csv(\"heart.csv\", sep=\";\")\n",
    "x=df.iloc[:,0:9].values\n",
    "y=df.iloc[:,9:10].values"
   ]
  },
  {
   "cell_type": "code",
   "execution_count": 26,
   "metadata": {},
   "outputs": [],
   "source": [
    "#değerlendirme\n",
    "mlr=LinearRegression()\n",
    "mlr.fit(x,y)\n",
    "mlr_pred=mlr.predict(x)\n",
    "\n",
    "dt=DecisionTreeRegressor()\n",
    "dt.fit(x,y)\n",
    "dt_pred=dt.predict(x)\n",
    "\n",
    "rf=RandomForestRegressor(n_estimators=100,random_state=42)\n",
    "rf.fit(x,y.ravel())\n",
    "rf_pred=rf.predict(x)"
   ]
  },
  {
   "cell_type": "code",
   "execution_count": 27,
   "metadata": {},
   "outputs": [
    {
     "name": "stdout",
     "output_type": "stream",
     "text": [
      "mlr r2 0.18566658254385326 mae 0.8061576026808224\n",
      "dt r2 1.0 mae 1.3740383968133126e-19\n",
      "rf r2 0.8737759748392493 mea 0.3220825082508251\n"
     ]
    }
   ],
   "source": [
    "print(\"mlr\",\"r2\",r2_score(y,mlr_pred),\"mae\",mean_absolute_error(y,mlr_pred))\n",
    "print(\"dt\",\"r2\",r2_score(y,dt_pred),\"mae\",mean_absolute_error(y,dt_pred))\n",
    "print(\"rf\",\"r2\",r2_score(y,rf_pred),\"mea\",mean_absolute_error(y,rf_pred))"
   ]
  },
  {
   "cell_type": "code",
   "execution_count": 28,
   "metadata": {},
   "outputs": [
    {
     "name": "stdout",
     "output_type": "stream",
     "text": [
      "mlr r2 0.21964409108335903 mae 0.8950892624516247\n",
      "dt r2 -0.20652384645211375 mae 1.0225806451612904\n",
      "rf r2 0.3092216750678556 mea 0.7844516129032257\n"
     ]
    }
   ],
   "source": [
    "#split edilmiş değerlendirmeler\n",
    "from sklearn.model_selection import train_test_split\n",
    "x_train,x_test,y_train,y_test=train_test_split(x,y,test_size=0.1,random_state=42)\n",
    "mlr=LinearRegression()\n",
    "mlr.fit(x_train,y_train)\n",
    "mlr_pred=mlr.predict(x_test)\n",
    "\n",
    "dt=DecisionTreeRegressor(random_state=42)\n",
    "dt.fit(x_train,y_train)\n",
    "dt_pred=dt.predict(x_test)\n",
    "\n",
    "\n",
    "rf=RandomForestRegressor(n_estimators=100,random_state=42)\n",
    "rf.fit(x_train,y_train.ravel())\n",
    "rf_pred=rf.predict(x_test)\n",
    "print(\"mlr\",\"r2\",r2_score(y_test,mlr_pred),\"mae\",mean_absolute_error(y_test,mlr_pred))\n",
    "print(\"dt\",\"r2\",r2_score(y_test,dt_pred),\"mae\",mean_absolute_error(y_test,dt_pred))\n",
    "print(\"rf\",\"r2\",r2_score(y_test,rf_pred),\"mea\",mean_absolute_error(y_test,rf_pred))"
   ]
  },
  {
   "cell_type": "code",
   "execution_count": null,
   "metadata": {},
   "outputs": [],
   "source": []
  },
  {
   "cell_type": "code",
   "execution_count": null,
   "metadata": {},
   "outputs": [],
   "source": []
  }
 ],
 "metadata": {
  "kernelspec": {
   "display_name": "Python 3",
   "language": "python",
   "name": "python3"
  },
  "language_info": {
   "codemirror_mode": {
    "name": "ipython",
    "version": 3
   },
   "file_extension": ".py",
   "mimetype": "text/x-python",
   "name": "python",
   "nbconvert_exporter": "python",
   "pygments_lexer": "ipython3",
   "version": "3.8.3"
  }
 },
 "nbformat": 4,
 "nbformat_minor": 4
}
